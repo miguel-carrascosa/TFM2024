{
 "cells": [
  {
   "cell_type": "markdown",
   "id": "0ef6c89e",
   "metadata": {},
   "source": [
    "# Código Scraping TFM"
   ]
  },
  {
   "cell_type": "markdown",
   "id": "b3178757",
   "metadata": {},
   "source": [
    "A continuación se muestra el código python utilizado para la recolección de datos de barcos en venta en internet. La página web de la que serán extraídos los datos es https://www.boatinternational.com/yachts-for-sale."
   ]
  },
  {
   "cell_type": "markdown",
   "id": "39a62aeb",
   "metadata": {},
   "source": [
    "### 1. Abrimos la página web y rechazamos cookies"
   ]
  },
  {
   "cell_type": "code",
   "execution_count": 1,
   "id": "030e26f3",
   "metadata": {},
   "outputs": [],
   "source": [
    "#Importamos todas las librerias que necesitamos \n",
    "\n",
    "import pandas as pd\n",
    "import sys\n",
    "import time\n",
    "from selenium import webdriver\n",
    "from selenium.webdriver.common.by import By\n",
    "from selenium.webdriver.common.keys import Keys\n",
    "from selenium.common.exceptions import NoSuchElementException\n",
    "from selenium.common.exceptions import StaleElementReferenceException\n",
    "from selenium.common.exceptions import ElementClickInterceptedException\n",
    "from selenium.common.exceptions import TimeoutException\n",
    "from selenium.webdriver.support.select import Select\n",
    "from selenium.webdriver.support.ui import WebDriverWait\n",
    "from selenium.webdriver.support import expected_conditions as EC\n",
    " \n",
    "driver = webdriver.Firefox()\n",
    "driver.get(\"https://www.boatinternational.com/yachts-for-sale\")\n",
    "time.sleep(3)\n",
    "driver.maximize_window()"
   ]
  },
  {
   "cell_type": "code",
   "execution_count": 2,
   "id": "4f0f29e1",
   "metadata": {},
   "outputs": [],
   "source": [
    "# Rechazamos cookies\n",
    "cookies = driver.find_element(By.ID, \"onetrust-pc-btn-handler\")\n",
    "time.sleep(1)\n",
    "cookies.click()\n",
    "time.sleep(3)\n",
    "cookies = driver.find_element(By.XPATH,\"/html/body/div[5]/div[3]/div/div[3]/div[1]/button\")\n",
    "cookies.click()\n",
    "time.sleep(1)"
   ]
  },
  {
   "cell_type": "markdown",
   "id": "7a8286b7",
   "metadata": {},
   "source": [
    "### 2. Desde la página principal identificamos todos los anuncios de barcos disponibles"
   ]
  },
  {
   "cell_type": "code",
   "execution_count": 23,
   "id": "d8f2ca51",
   "metadata": {},
   "outputs": [],
   "source": [
    "# Encontramos todos los elementos\n",
    "boat_elements = driver.find_elements(By.XPATH, '//div[contains(@class, \"card__content-wrapper card__content-wrapper--landscape \")]')\n",
    "# boat_elements = driver.find_elements(By.XPATH, '//div[contains(@class, \"card__title card__title--landscape\")]')"
   ]
  },
  {
   "cell_type": "code",
   "execution_count": 24,
   "id": "1b340220",
   "metadata": {},
   "outputs": [
    {
     "data": {
      "text/plain": [
       "788"
      ]
     },
     "execution_count": 24,
     "metadata": {},
     "output_type": "execute_result"
    }
   ],
   "source": [
    "len(boat_elements)"
   ]
  },
  {
   "cell_type": "code",
   "execution_count": 5,
   "id": "854351fb",
   "metadata": {},
   "outputs": [
    {
     "data": {
      "text/plain": [
       "list"
      ]
     },
     "execution_count": 5,
     "metadata": {},
     "output_type": "execute_result"
    }
   ],
   "source": [
    "type(boat_elements)"
   ]
  },
  {
   "cell_type": "markdown",
   "id": "6f82744d",
   "metadata": {},
   "source": [
    "### 3. Creamos un bucle para abrir cada anuncio de venta de barcos en una pestaña nueva, recopilar la información contenida y finalmente cerrarlo para acto seguido repetir el proceso con el siguiente"
   ]
  },
  {
   "cell_type": "code",
   "execution_count": 25,
   "id": "daa6de55",
   "metadata": {},
   "outputs": [],
   "source": [
    "# Creamos un diccionario y un dataframe vacíos\n",
    "boat_data = {}\n",
    "df = pd.DataFrame([boat_data])"
   ]
  },
  {
   "cell_type": "code",
   "execution_count": 10,
   "id": "21d87ba3",
   "metadata": {},
   "outputs": [],
   "source": [
    "boat_data_list = []"
   ]
  },
  {
   "cell_type": "code",
   "execution_count": 26,
   "id": "a5e3ca99",
   "metadata": {},
   "outputs": [
    {
     "name": "stdout",
     "output_type": "stream",
     "text": [
      "         Boat Name          Price\n",
      "0              NaN            NaN\n",
      "1         SHAMANNA          POA •\n",
      "2             MANA   $6,575,000 •\n",
      "3        AMARYLLIS  €89,000,000 •\n",
      "4         GRATEFUL  €15,990,000 •\n",
      "..             ...            ...\n",
      "784       VIBRANCE  $21,900,000 •\n",
      "785  LADY VICTORIA   €1,900,000 •\n",
      "786       CROSSBOW   €7,950,000 •\n",
      "787        ECLIPSE   $5,450,000 •\n",
      "788       GIHRAMAR   €2,280,000 •\n",
      "\n",
      "[789 rows x 2 columns]\n"
     ]
    }
   ],
   "source": [
    "# Loop through each boat element\n",
    "for element in boat_elements:\n",
    "    try:\n",
    "        # Extract boat name\n",
    "        boat_name_element = element.find_elements(By.XPATH, './/div[contains(@class, \"card__title--landscape \")]/a')\n",
    "        boat_name = boat_name_element[0].text.strip() if boat_name_element else None\n",
    "\n",
    "        # Extract price\n",
    "        price_elements = element.find_elements(By.XPATH, './/div[contains(@class, \"card__details--landscape\")]/span[@class=\"\"]')\n",
    "        price = None\n",
    "        for price_element in price_elements:\n",
    "            if any(currency in price_element.text for currency in [\"POA\", \"€\", \"$\", \"£\"]):\n",
    "                price = price_element.text.strip()\n",
    "                break\n",
    "\n",
    "        # Create a dictionary to store boat data\n",
    "        boat_data = {\n",
    "            \"Boat Name\": boat_name,\n",
    "            \"Price\": price\n",
    "        }\n",
    "\n",
    "        # Create a DataFrame from the dictionary\n",
    "        df = pd.concat([df, pd.DataFrame([boat_data])], ignore_index = True)\n",
    "        boat_data = {}\n",
    "\n",
    "        # Refresh boat elements to avoid stale references\n",
    "        boat_elements = driver.find_elements(By.XPATH, '//div[contains(@class, \"card__content-wrapper card__content-wrapper--landscape \")]')\n",
    "\n",
    "    except StaleElementReferenceException:\n",
    "        print(\"Element is stale. Skipping to the next element.\")\n",
    "\n",
    "\n",
    "# Display the DataFrame\n",
    "print(df)"
   ]
  },
  {
   "cell_type": "markdown",
   "id": "b4dad721",
   "metadata": {},
   "source": [
    "### 4. Guardamos como CSV"
   ]
  },
  {
   "cell_type": "code",
   "execution_count": 27,
   "id": "95f8ed65",
   "metadata": {},
   "outputs": [
    {
     "name": "stdout",
     "output_type": "stream",
     "text": [
      "Introduzca la ruta en la que quiere guardar el dataframe\n",
      "Ruta: C:/Users/Usuario/Documents/Python Anaconda Archivos/Almacenes de Datos/Scripts/Scripts parte 2\n",
      "\n",
      "Ahora escoja un nombre para el archivo\n",
      "Nombre del archivo: Barcos_precios\n",
      "\n",
      "Se grabó la información correctamente\n"
     ]
    }
   ],
   "source": [
    "import csv\n",
    "\n",
    "print(\"Introduzca la ruta en la que quiere guardar el dataframe\")\n",
    "ruta_csv = input(\"Ruta: \")\n",
    "# C:/Users/Usuario/Documents/Python Anaconda Archivos/Almacenes de Datos/Scripts/Scripts parte 2\n",
    "# Barcos_definitivo_total\n",
    "print()\n",
    "print(\"Ahora escoja un nombre para el archivo\")\n",
    "nombre_archivo_csv = input(\"Nombre del archivo: \")\n",
    "print()\n",
    "\n",
    "df.to_csv(ruta_csv + \"/\" + nombre_archivo_csv + \".csv\", sep = ';')\n",
    "print(\"Se grabó la información correctamente\")"
   ]
  },
  {
   "cell_type": "markdown",
   "id": "f183c8ac",
   "metadata": {},
   "source": [
    "### 5. Lo cargamos desde el CSV para comprobar que funciona"
   ]
  },
  {
   "cell_type": "code",
   "execution_count": null,
   "id": "f3c21db5",
   "metadata": {},
   "outputs": [],
   "source": [
    "df = pd.read_csv(ruta_csv + \"/\" + nombre_archivo_csv + \".csv\", encoding = \"utf-8\",\n",
    "     sep = \";\", engine = \"python\", index_col = 0)\n",
    "df"
   ]
  },
  {
   "cell_type": "markdown",
   "id": "375f470c",
   "metadata": {},
   "source": [
    "### 6. Lo guardamos en formato excel"
   ]
  },
  {
   "cell_type": "code",
   "execution_count": 28,
   "id": "c4391416",
   "metadata": {},
   "outputs": [
    {
     "name": "stdout",
     "output_type": "stream",
     "text": [
      "Introduzca la ruta en la que quiere guardar el dataframe\n",
      "Ruta: C:/Users/Usuario/Documents/Python Anaconda Archivos/Almacenes de Datos/Scripts/Scripts parte 2\n",
      "\n",
      "Ahora escoja un nombre para el archivo\n",
      "Nombre del archivo: Barcos_precios\n",
      "\n",
      "Se grabó la información correctamente\n"
     ]
    }
   ],
   "source": [
    "print(\"Introduzca la ruta en la que quiere guardar el dataframe\")\n",
    "ruta_excel = input(\"Ruta: \")\n",
    "# C:/Users/Usuario/Documents/Python Anaconda Archivos/Almacenes de Datos/Scripts/Scripts parte 2\n",
    "# Barcos_definitivo_total\n",
    "print()\n",
    "print(\"Ahora escoja un nombre para el archivo\")\n",
    "nombre_archivo_excel = input(\"Nombre del archivo: \")\n",
    "print()\n",
    "escritor = pd.ExcelWriter(ruta_excel + \"/\" + nombre_archivo_excel + \".xlsx\", engine = 'xlsxwriter')\n",
    "df.to_excel(escritor, sheet_name=\"hoja1\", index=True)\n",
    "escritor.save()\n",
    "print(\"Se grabó la información correctamente\")"
   ]
  },
  {
   "cell_type": "markdown",
   "id": "ad4083de",
   "metadata": {},
   "source": [
    "### 7. Lo volvemos a cargar para comprobar que funciona"
   ]
  },
  {
   "cell_type": "code",
   "execution_count": null,
   "id": "a63c9714",
   "metadata": {},
   "outputs": [],
   "source": [
    "df = pd.read_excel(ruta_excel + \"/\" + nombre_archivo_excel + \".xlsx\", index_col = 0)\n",
    "print(df)"
   ]
  }
 ],
 "metadata": {
  "kernelspec": {
   "display_name": "Python 3 (ipykernel)",
   "language": "python",
   "name": "python3"
  },
  "language_info": {
   "codemirror_mode": {
    "name": "ipython",
    "version": 3
   },
   "file_extension": ".py",
   "mimetype": "text/x-python",
   "name": "python",
   "nbconvert_exporter": "python",
   "pygments_lexer": "ipython3",
   "version": "3.9.13"
  }
 },
 "nbformat": 4,
 "nbformat_minor": 5
}
